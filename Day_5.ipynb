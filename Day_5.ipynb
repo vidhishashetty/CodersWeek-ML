{
 "cells": [
  {
   "cell_type": "code",
   "execution_count": 2,
   "metadata": {},
   "outputs": [
    {
     "name": "stdout",
     "output_type": "stream",
     "text": [
      "Requirement already satisfied: Tweepy in d:\\andaconda_install\\lib\\site-packages (3.8.0)\n",
      "Requirement already satisfied: requests-oauthlib>=0.7.0 in d:\\andaconda_install\\lib\\site-packages (from Tweepy) (1.3.0)\n",
      "Requirement already satisfied: PySocks>=1.5.7 in d:\\andaconda_install\\lib\\site-packages (from Tweepy) (1.7.1)\n",
      "Requirement already satisfied: requests>=2.11.1 in d:\\andaconda_install\\lib\\site-packages (from Tweepy) (2.22.0)\n",
      "Requirement already satisfied: six>=1.10.0 in d:\\andaconda_install\\lib\\site-packages (from Tweepy) (1.12.0)\n",
      "Requirement already satisfied: oauthlib>=3.0.0 in d:\\andaconda_install\\lib\\site-packages (from requests-oauthlib>=0.7.0->Tweepy) (3.1.0)\n",
      "Requirement already satisfied: idna<2.9,>=2.5 in d:\\andaconda_install\\lib\\site-packages (from requests>=2.11.1->Tweepy) (2.8)\n",
      "Requirement already satisfied: chardet<3.1.0,>=3.0.2 in d:\\andaconda_install\\lib\\site-packages (from requests>=2.11.1->Tweepy) (3.0.4)\n",
      "Requirement already satisfied: urllib3!=1.25.0,!=1.25.1,<1.26,>=1.21.1 in d:\\andaconda_install\\lib\\site-packages (from requests>=2.11.1->Tweepy) (1.24.2)\n",
      "Requirement already satisfied: certifi>=2017.4.17 in d:\\andaconda_install\\lib\\site-packages (from requests>=2.11.1->Tweepy) (2019.9.11)\n",
      "Note: you may need to restart the kernel to use updated packages.\n"
     ]
    }
   ],
   "source": [
    "pip install Tweepy\n"
   ]
  },
  {
   "cell_type": "code",
   "execution_count": 16,
   "metadata": {},
   "outputs": [],
   "source": [
    "import tweepy\n"
   ]
  },
  {
   "cell_type": "code",
   "execution_count": 15,
   "metadata": {},
   "outputs": [
    {
     "name": "stdout",
     "output_type": "stream",
     "text": [
      "Collecting WordCloud\n",
      "  Downloading https://files.pythonhosted.org/packages/65/41/abefdda082c7b211248e412fb2c7a8dc69d474f18ed61a5a784f20f73bb7/wordcloud-1.7.0-cp37-cp37m-win_amd64.whl (157kB)\n",
      "Requirement already satisfied: matplotlib in d:\\andaconda_install\\lib\\site-packages (from WordCloud) (3.1.1)\n",
      "Requirement already satisfied: pillow in d:\\andaconda_install\\lib\\site-packages (from WordCloud) (6.2.0)\n",
      "Requirement already satisfied: numpy>=1.6.1 in d:\\andaconda_install\\lib\\site-packages (from WordCloud) (1.16.5)\n",
      "Requirement already satisfied: cycler>=0.10 in d:\\andaconda_install\\lib\\site-packages (from matplotlib->WordCloud) (0.10.0)\n",
      "Requirement already satisfied: kiwisolver>=1.0.1 in d:\\andaconda_install\\lib\\site-packages (from matplotlib->WordCloud) (1.1.0)\n",
      "Requirement already satisfied: pyparsing!=2.0.4,!=2.1.2,!=2.1.6,>=2.0.1 in d:\\andaconda_install\\lib\\site-packages (from matplotlib->WordCloud) (2.4.2)\n",
      "Requirement already satisfied: python-dateutil>=2.1 in d:\\andaconda_install\\lib\\site-packages (from matplotlib->WordCloud) (2.8.0)\n",
      "Requirement already satisfied: six in d:\\andaconda_install\\lib\\site-packages (from cycler>=0.10->matplotlib->WordCloud) (1.12.0)\n",
      "Requirement already satisfied: setuptools in d:\\andaconda_install\\lib\\site-packages (from kiwisolver>=1.0.1->matplotlib->WordCloud) (41.4.0)\n",
      "Installing collected packages: WordCloud\n",
      "Successfully installed WordCloud-1.7.0\n",
      "Note: you may need to restart the kernel to use updated packages.\n"
     ]
    }
   ],
   "source": [
    "pip install WordCloud"
   ]
  },
  {
   "cell_type": "code",
   "execution_count": 1,
   "metadata": {},
   "outputs": [],
   "source": [
    "import tweepy\n",
    "from textblob import TextBlob\n",
    "from wordcloud import WordCloud\n",
    "import pandas as pd\n",
    "import numpy as np\n",
    "import re\n",
    "import matplotlib.pyplot as plt\n",
    "plt.style.use('fivethirtyeight')"
   ]
  },
  {
   "cell_type": "code",
   "execution_count": 2,
   "metadata": {},
   "outputs": [],
   "source": [
    "#Hidden for privacy purpose\n",
    "consumerKey = \"X\" \n",
    "consumerSecret= \"X\"\n",
    "accessToken = \"X\"\n",
    "accessTokenSecret = \"X\""
   ]
  },
  {
   "cell_type": "code",
   "execution_count": 19,
   "metadata": {},
   "outputs": [],
   "source": [
    "# Create the authentication object\n",
    "authenticate = tweepy.OAuthHandler(consumerKey, consumerSecret) \n",
    "    \n",
    "# Set the access token and access token secret\n",
    "authenticate.set_access_token(accessToken, accessTokenSecret) \n",
    "    \n",
    "# Creating the API object while passing in auth information\n",
    "api = tweepy.API(authenticate, wait_on_rate_limit = True)"
   ]
  },
  {
   "cell_type": "code",
   "execution_count": 20,
   "metadata": {},
   "outputs": [
    {
     "name": "stdout",
     "output_type": "stream",
     "text": [
      "Show the 5 recent tweets:\n",
      "\n",
      "1) .@CNN &amp; MSDNC are doing everything possible to “inflame” the crowd. Fortunately they have a very small audience!\n",
      "\n",
      "2) Much smaller crowd in D.C. than anticipated. National Guard, Secret Service, and D.C. Police have been doing a fantastic job. Thank you!\n",
      "\n",
      "3) LAW &amp; ORDER!\n",
      "\n",
      "4) Wow! 96% Approval Rating in the Republican Party (and I believe this was before the “GREAT” Jobs Numbers yesterday). Thank you!\n",
      "\n",
      "5) https://t.co/hJSsx86Azp\n",
      "\n"
     ]
    }
   ],
   "source": [
    "# Extract 100 tweets from the twitter user\n",
    "posts = api.user_timeline(screen_name=\"realDonaldTrump\", count = 100, lang =\"en\", tweet_mode=\"extended\")\n",
    "\n",
    "#  Print the last 5 tweets\n",
    "print(\"Show the 5 recent tweets:\\n\")\n",
    "i=1\n",
    "for tweet in posts[:5]:\n",
    "    print(str(i) +') '+ tweet.full_text + '\\n')\n",
    "    i= i+1\n"
   ]
  },
  {
   "cell_type": "code",
   "execution_count": 21,
   "metadata": {},
   "outputs": [
    {
     "data": {
      "text/html": [
       "<div>\n",
       "<style scoped>\n",
       "    .dataframe tbody tr th:only-of-type {\n",
       "        vertical-align: middle;\n",
       "    }\n",
       "\n",
       "    .dataframe tbody tr th {\n",
       "        vertical-align: top;\n",
       "    }\n",
       "\n",
       "    .dataframe thead th {\n",
       "        text-align: right;\n",
       "    }\n",
       "</style>\n",
       "<table border=\"1\" class=\"dataframe\">\n",
       "  <thead>\n",
       "    <tr style=\"text-align: right;\">\n",
       "      <th></th>\n",
       "      <th>Tweets</th>\n",
       "    </tr>\n",
       "  </thead>\n",
       "  <tbody>\n",
       "    <tr>\n",
       "      <td>0</td>\n",
       "      <td>.@CNN &amp;amp; MSDNC are doing everything possibl...</td>\n",
       "    </tr>\n",
       "    <tr>\n",
       "      <td>1</td>\n",
       "      <td>Much smaller crowd in D.C. than anticipated. N...</td>\n",
       "    </tr>\n",
       "    <tr>\n",
       "      <td>2</td>\n",
       "      <td>LAW &amp;amp; ORDER!</td>\n",
       "    </tr>\n",
       "    <tr>\n",
       "      <td>3</td>\n",
       "      <td>Wow! 96% Approval Rating in the Republican Par...</td>\n",
       "    </tr>\n",
       "    <tr>\n",
       "      <td>4</td>\n",
       "      <td>https://t.co/hJSsx86Azp</td>\n",
       "    </tr>\n",
       "  </tbody>\n",
       "</table>\n",
       "</div>"
      ],
      "text/plain": [
       "                                              Tweets\n",
       "0  .@CNN &amp; MSDNC are doing everything possibl...\n",
       "1  Much smaller crowd in D.C. than anticipated. N...\n",
       "2                                   LAW &amp; ORDER!\n",
       "3  Wow! 96% Approval Rating in the Republican Par...\n",
       "4                            https://t.co/hJSsx86Azp"
      ]
     },
     "execution_count": 21,
     "metadata": {},
     "output_type": "execute_result"
    }
   ],
   "source": [
    "# Create a dataframe with a column called Tweets\n",
    "df = pd.DataFrame([tweet.full_text for tweet in posts], columns=['Tweets'])\n",
    "# Show the first 5 rows of data\n",
    "df.head()"
   ]
  },
  {
   "cell_type": "code",
   "execution_count": 22,
   "metadata": {},
   "outputs": [
    {
     "data": {
      "text/html": [
       "<div>\n",
       "<style scoped>\n",
       "    .dataframe tbody tr th:only-of-type {\n",
       "        vertical-align: middle;\n",
       "    }\n",
       "\n",
       "    .dataframe tbody tr th {\n",
       "        vertical-align: top;\n",
       "    }\n",
       "\n",
       "    .dataframe thead th {\n",
       "        text-align: right;\n",
       "    }\n",
       "</style>\n",
       "<table border=\"1\" class=\"dataframe\">\n",
       "  <thead>\n",
       "    <tr style=\"text-align: right;\">\n",
       "      <th></th>\n",
       "      <th>Tweets</th>\n",
       "    </tr>\n",
       "  </thead>\n",
       "  <tbody>\n",
       "    <tr>\n",
       "      <td>0</td>\n",
       "      <td>. &amp;amp; MSDNC are doing everything possible to...</td>\n",
       "    </tr>\n",
       "    <tr>\n",
       "      <td>1</td>\n",
       "      <td>Much smaller crowd in D.C. than anticipated. N...</td>\n",
       "    </tr>\n",
       "    <tr>\n",
       "      <td>2</td>\n",
       "      <td>LAW &amp;amp; ORDER!</td>\n",
       "    </tr>\n",
       "    <tr>\n",
       "      <td>3</td>\n",
       "      <td>Wow! 96% Approval Rating in the Republican Par...</td>\n",
       "    </tr>\n",
       "    <tr>\n",
       "      <td>4</td>\n",
       "      <td></td>\n",
       "    </tr>\n",
       "    <tr>\n",
       "      <td>...</td>\n",
       "      <td>...</td>\n",
       "    </tr>\n",
       "    <tr>\n",
       "      <td>95</td>\n",
       "      <td>: I led a letter to  w/ Sens Grassley, Crapo, ...</td>\n",
       "    </tr>\n",
       "    <tr>\n",
       "      <td>96</td>\n",
       "      <td>: In particular, I’m pleased the administratio...</td>\n",
       "    </tr>\n",
       "    <tr>\n",
       "      <td>97</td>\n",
       "      <td>: The president should use the Insurrection Ac...</td>\n",
       "    </tr>\n",
       "    <tr>\n",
       "      <td>98</td>\n",
       "      <td>: We should have zero tolerance for anarchy, r...</td>\n",
       "    </tr>\n",
       "    <tr>\n",
       "      <td>99</td>\n",
       "      <td>: Judge Sullivan is abusing his judicial power...</td>\n",
       "    </tr>\n",
       "  </tbody>\n",
       "</table>\n",
       "<p>100 rows × 1 columns</p>\n",
       "</div>"
      ],
      "text/plain": [
       "                                               Tweets\n",
       "0   . &amp; MSDNC are doing everything possible to...\n",
       "1   Much smaller crowd in D.C. than anticipated. N...\n",
       "2                                    LAW &amp; ORDER!\n",
       "3   Wow! 96% Approval Rating in the Republican Par...\n",
       "4                                                    \n",
       "..                                                ...\n",
       "95  : I led a letter to  w/ Sens Grassley, Crapo, ...\n",
       "96  : In particular, I’m pleased the administratio...\n",
       "97  : The president should use the Insurrection Ac...\n",
       "98  : We should have zero tolerance for anarchy, r...\n",
       "99  : Judge Sullivan is abusing his judicial power...\n",
       "\n",
       "[100 rows x 1 columns]"
      ]
     },
     "execution_count": 22,
     "metadata": {},
     "output_type": "execute_result"
    }
   ],
   "source": [
    "\n",
    "def cleanTxt(text):\n",
    "     text = re.sub('@[A-Za-z0–9]+', '', text)\n",
    "     text = re.sub('#', '', text) \n",
    "     text = re.sub('RT[\\s]+', '', text) # Removing RT\n",
    "     text = re.sub('https?:\\/\\/\\S+', '', text) # Removing hyperlink\n",
    " \n",
    "     return text\n",
    "\n",
    "\n",
    "# Clean the tweets\n",
    "df['Tweets'] = df['Tweets'].apply(cleanTxt)\n",
    "\n",
    "# Show the cleaned tweets\n",
    "df\n"
   ]
  },
  {
   "cell_type": "code",
   "execution_count": 23,
   "metadata": {},
   "outputs": [
    {
     "data": {
      "text/html": [
       "<div>\n",
       "<style scoped>\n",
       "    .dataframe tbody tr th:only-of-type {\n",
       "        vertical-align: middle;\n",
       "    }\n",
       "\n",
       "    .dataframe tbody tr th {\n",
       "        vertical-align: top;\n",
       "    }\n",
       "\n",
       "    .dataframe thead th {\n",
       "        text-align: right;\n",
       "    }\n",
       "</style>\n",
       "<table border=\"1\" class=\"dataframe\">\n",
       "  <thead>\n",
       "    <tr style=\"text-align: right;\">\n",
       "      <th></th>\n",
       "      <th>Tweets</th>\n",
       "      <th>Subjectivity</th>\n",
       "      <th>Polarity</th>\n",
       "    </tr>\n",
       "  </thead>\n",
       "  <tbody>\n",
       "    <tr>\n",
       "      <td>0</td>\n",
       "      <td>. &amp;amp; MSDNC are doing everything possible to...</td>\n",
       "      <td>0.740000</td>\n",
       "      <td>-0.002083</td>\n",
       "    </tr>\n",
       "    <tr>\n",
       "      <td>1</td>\n",
       "      <td>Much smaller crowd in D.C. than anticipated. N...</td>\n",
       "      <td>0.700000</td>\n",
       "      <td>0.033333</td>\n",
       "    </tr>\n",
       "    <tr>\n",
       "      <td>2</td>\n",
       "      <td>LAW &amp;amp; ORDER!</td>\n",
       "      <td>0.000000</td>\n",
       "      <td>0.000000</td>\n",
       "    </tr>\n",
       "    <tr>\n",
       "      <td>3</td>\n",
       "      <td>Wow! 96% Approval Rating in the Republican Par...</td>\n",
       "      <td>0.875000</td>\n",
       "      <td>0.562500</td>\n",
       "    </tr>\n",
       "    <tr>\n",
       "      <td>4</td>\n",
       "      <td></td>\n",
       "      <td>0.000000</td>\n",
       "      <td>0.000000</td>\n",
       "    </tr>\n",
       "    <tr>\n",
       "      <td>...</td>\n",
       "      <td>...</td>\n",
       "      <td>...</td>\n",
       "      <td>...</td>\n",
       "    </tr>\n",
       "    <tr>\n",
       "      <td>95</td>\n",
       "      <td>: I led a letter to  w/ Sens Grassley, Crapo, ...</td>\n",
       "      <td>0.000000</td>\n",
       "      <td>0.000000</td>\n",
       "    </tr>\n",
       "    <tr>\n",
       "      <td>96</td>\n",
       "      <td>: In particular, I’m pleased the administratio...</td>\n",
       "      <td>0.577778</td>\n",
       "      <td>0.222222</td>\n",
       "    </tr>\n",
       "    <tr>\n",
       "      <td>97</td>\n",
       "      <td>: The president should use the Insurrection Ac...</td>\n",
       "      <td>0.050000</td>\n",
       "      <td>-0.050000</td>\n",
       "    </tr>\n",
       "    <tr>\n",
       "      <td>98</td>\n",
       "      <td>: We should have zero tolerance for anarchy, r...</td>\n",
       "      <td>1.000000</td>\n",
       "      <td>0.000000</td>\n",
       "    </tr>\n",
       "    <tr>\n",
       "      <td>99</td>\n",
       "      <td>: Judge Sullivan is abusing his judicial power...</td>\n",
       "      <td>0.300000</td>\n",
       "      <td>0.025000</td>\n",
       "    </tr>\n",
       "  </tbody>\n",
       "</table>\n",
       "<p>100 rows × 3 columns</p>\n",
       "</div>"
      ],
      "text/plain": [
       "                                               Tweets  Subjectivity  Polarity\n",
       "0   . &amp; MSDNC are doing everything possible to...      0.740000 -0.002083\n",
       "1   Much smaller crowd in D.C. than anticipated. N...      0.700000  0.033333\n",
       "2                                    LAW &amp; ORDER!      0.000000  0.000000\n",
       "3   Wow! 96% Approval Rating in the Republican Par...      0.875000  0.562500\n",
       "4                                                          0.000000  0.000000\n",
       "..                                                ...           ...       ...\n",
       "95  : I led a letter to  w/ Sens Grassley, Crapo, ...      0.000000  0.000000\n",
       "96  : In particular, I’m pleased the administratio...      0.577778  0.222222\n",
       "97  : The president should use the Insurrection Ac...      0.050000 -0.050000\n",
       "98  : We should have zero tolerance for anarchy, r...      1.000000  0.000000\n",
       "99  : Judge Sullivan is abusing his judicial power...      0.300000  0.025000\n",
       "\n",
       "[100 rows x 3 columns]"
      ]
     },
     "execution_count": 23,
     "metadata": {},
     "output_type": "execute_result"
    }
   ],
   "source": [
    "# Create a function to get the subjectivity\n",
    "def getSubjectivity(text):\n",
    "   return TextBlob(text).sentiment.subjectivity\n",
    "\n",
    "# Create a function to get the polarity\n",
    "def getPolarity(text):\n",
    "   return  TextBlob(text).sentiment.polarity\n",
    "\n",
    "\n",
    "# Create two new columns 'Subjectivity' & 'Polarity'\n",
    "df['Subjectivity'] = df['Tweets'].apply(getSubjectivity)\n",
    "df['Polarity'] = df['Tweets'].apply(getPolarity)\n",
    "\n",
    "# Show the new dataframe with columns 'Subjectivity' & 'Polarity'\n",
    "df"
   ]
  },
  {
   "cell_type": "code",
   "execution_count": 24,
   "metadata": {},
   "outputs": [
    {
     "data": {
      "image/png": "[encoded data removed]",
      "text/plain": [
       "<Figure size 432x288 with 1 Axes>"
      ]
     },
     "metadata": {
      "needs_background": "light"
     },
     "output_type": "display_data"
    }
   ],
   "source": [
    "# word cloud visualization\n",
    "allWords = ' '.join([twts for twts in df['Tweets']])\n",
    "wordCloud = WordCloud(width=500, height=300, random_state=21, max_font_size=110).generate(allWords)\n",
    "\n",
    "\n",
    "plt.imshow(wordCloud, interpolation=\"bilinear\")\n",
    "plt.axis('off')\n",
    "plt.show()"
   ]
  },
  {
   "cell_type": "code",
   "execution_count": 26,
   "metadata": {},
   "outputs": [
    {
     "data": {
      "text/html": [
       "<div>\n",
       "<style scoped>\n",
       "    .dataframe tbody tr th:only-of-type {\n",
       "        vertical-align: middle;\n",
       "    }\n",
       "\n",
       "    .dataframe tbody tr th {\n",
       "        vertical-align: top;\n",
       "    }\n",
       "\n",
       "    .dataframe thead th {\n",
       "        text-align: right;\n",
       "    }\n",
       "</style>\n",
       "<table border=\"1\" class=\"dataframe\">\n",
       "  <thead>\n",
       "    <tr style=\"text-align: right;\">\n",
       "      <th></th>\n",
       "      <th>Tweets</th>\n",
       "      <th>Subjectivity</th>\n",
       "      <th>Polarity</th>\n",
       "      <th>Analysis</th>\n",
       "    </tr>\n",
       "  </thead>\n",
       "  <tbody>\n",
       "    <tr>\n",
       "      <td>0</td>\n",
       "      <td>. &amp;amp; MSDNC are doing everything possible to...</td>\n",
       "      <td>0.740000</td>\n",
       "      <td>-0.002083</td>\n",
       "      <td>Toxic</td>\n",
       "    </tr>\n",
       "    <tr>\n",
       "      <td>1</td>\n",
       "      <td>Much smaller crowd in D.C. than anticipated. N...</td>\n",
       "      <td>0.700000</td>\n",
       "      <td>0.033333</td>\n",
       "      <td>Not-Toxic</td>\n",
       "    </tr>\n",
       "    <tr>\n",
       "      <td>2</td>\n",
       "      <td>LAW &amp;amp; ORDER!</td>\n",
       "      <td>0.000000</td>\n",
       "      <td>0.000000</td>\n",
       "      <td>Toxic</td>\n",
       "    </tr>\n",
       "    <tr>\n",
       "      <td>3</td>\n",
       "      <td>Wow! 96% Approval Rating in the Republican Par...</td>\n",
       "      <td>0.875000</td>\n",
       "      <td>0.562500</td>\n",
       "      <td>Not-Toxic</td>\n",
       "    </tr>\n",
       "    <tr>\n",
       "      <td>4</td>\n",
       "      <td></td>\n",
       "      <td>0.000000</td>\n",
       "      <td>0.000000</td>\n",
       "      <td>Toxic</td>\n",
       "    </tr>\n",
       "    <tr>\n",
       "      <td>...</td>\n",
       "      <td>...</td>\n",
       "      <td>...</td>\n",
       "      <td>...</td>\n",
       "      <td>...</td>\n",
       "    </tr>\n",
       "    <tr>\n",
       "      <td>95</td>\n",
       "      <td>: I led a letter to  w/ Sens Grassley, Crapo, ...</td>\n",
       "      <td>0.000000</td>\n",
       "      <td>0.000000</td>\n",
       "      <td>Toxic</td>\n",
       "    </tr>\n",
       "    <tr>\n",
       "      <td>96</td>\n",
       "      <td>: In particular, I’m pleased the administratio...</td>\n",
       "      <td>0.577778</td>\n",
       "      <td>0.222222</td>\n",
       "      <td>Not-Toxic</td>\n",
       "    </tr>\n",
       "    <tr>\n",
       "      <td>97</td>\n",
       "      <td>: The president should use the Insurrection Ac...</td>\n",
       "      <td>0.050000</td>\n",
       "      <td>-0.050000</td>\n",
       "      <td>Toxic</td>\n",
       "    </tr>\n",
       "    <tr>\n",
       "      <td>98</td>\n",
       "      <td>: We should have zero tolerance for anarchy, r...</td>\n",
       "      <td>1.000000</td>\n",
       "      <td>0.000000</td>\n",
       "      <td>Toxic</td>\n",
       "    </tr>\n",
       "    <tr>\n",
       "      <td>99</td>\n",
       "      <td>: Judge Sullivan is abusing his judicial power...</td>\n",
       "      <td>0.300000</td>\n",
       "      <td>0.025000</td>\n",
       "      <td>Not-Toxic</td>\n",
       "    </tr>\n",
       "  </tbody>\n",
       "</table>\n",
       "<p>100 rows × 4 columns</p>\n",
       "</div>"
      ],
      "text/plain": [
       "                                               Tweets  Subjectivity  Polarity  \\\n",
       "0   . &amp; MSDNC are doing everything possible to...      0.740000 -0.002083   \n",
       "1   Much smaller crowd in D.C. than anticipated. N...      0.700000  0.033333   \n",
       "2                                    LAW &amp; ORDER!      0.000000  0.000000   \n",
       "3   Wow! 96% Approval Rating in the Republican Par...      0.875000  0.562500   \n",
       "4                                                          0.000000  0.000000   \n",
       "..                                                ...           ...       ...   \n",
       "95  : I led a letter to  w/ Sens Grassley, Crapo, ...      0.000000  0.000000   \n",
       "96  : In particular, I’m pleased the administratio...      0.577778  0.222222   \n",
       "97  : The president should use the Insurrection Ac...      0.050000 -0.050000   \n",
       "98  : We should have zero tolerance for anarchy, r...      1.000000  0.000000   \n",
       "99  : Judge Sullivan is abusing his judicial power...      0.300000  0.025000   \n",
       "\n",
       "     Analysis  \n",
       "0       Toxic  \n",
       "1   Not-Toxic  \n",
       "2       Toxic  \n",
       "3   Not-Toxic  \n",
       "4       Toxic  \n",
       "..        ...  \n",
       "95      Toxic  \n",
       "96  Not-Toxic  \n",
       "97      Toxic  \n",
       "98      Toxic  \n",
       "99  Not-Toxic  \n",
       "\n",
       "[100 rows x 4 columns]"
      ]
     },
     "execution_count": 26,
     "metadata": {},
     "output_type": "execute_result"
    }
   ],
   "source": [
    "def getAnalysis(score):\n",
    "    if score <= 0:\n",
    "      return 'Toxic'\n",
    "    else:\n",
    "      return 'Not-Toxic'\n",
    "df['Analysis'] = df['Polarity'].apply(getAnalysis)\n",
    "# Show the dataframe\n",
    "df"
   ]
  },
  {
   "cell_type": "code",
   "execution_count": 27,
   "metadata": {},
   "outputs": [
    {
     "name": "stdout",
     "output_type": "stream",
     "text": [
      "Printing positive tweets:\n",
      "\n",
      "1) Much smaller crowd in D.C. than anticipated. National Guard, Secret Service, and D.C. Police have been doing a fantastic job. Thank you!\n",
      "\n",
      "2) Wow! 96% Approval Rating in the Republican Party (and I believe this was before the “GREAT” Jobs Numbers yesterday). Thank you!\n",
      "\n",
      "3) : . is grossly incompetent, and in no way qualified to be running an important city like Washington, D.C. If…\n",
      "\n",
      "4) : I am a big fan of Drew Brees. I think he’s truly one of the greatest quarterbacks, but he should not have taken back h…\n",
      "\n",
      "5) : ...We should be standing up straight and tall, ideally with a salute, or a hand on heart. There are other things you c…\n",
      "\n",
      "6) : On June 6, 1944, our Greatest Generation bravely stormed the beaches of Normandy.\n",
      "\n",
      "\"Those who fought here won a future for…\n",
      "\n",
      "7) Riot gear or military control is not necessary because ANTIFA &amp; other Wacko groups of Anarchists aren’t present to cause trouble. Incredible people. Thank you Maine! \n",
      "\n",
      "8) Great new book by  called “Nothing to Lose”. The Pastor is a winner and a great guy. Much can be learned from him. Buy the book. Make him a Big Deal Author!\n",
      "\n",
      "9) : Pastor Darrell Scott on growing concerns for social media's role in countrywide violence\n",
      "\n",
      "\n",
      "\n",
      "10) : Here’s my grandparents &amp; great grandparents. They are rolling in their graves at the hatred that still exists. I’m biracial…\n",
      "\n",
      "11) : So great to have Michael home. Just arrived. Very exciting. Thank you to Iran. Don’t wait until after U.S. Election to…\n",
      "\n",
      "12) : America is opening up, and people are returning to work. Speaker Pelosi's reaction to today's great economic news?\n",
      "\n",
      "She doub…\n",
      "\n",
      "13) : Wow! Jobs Not Mobs!\n",
      "\n",
      "14) : Russia Hoax: Nearly Three Dozen Subpoenas Approved for Obama Administration Officials \n",
      "\n",
      "15) : Pandering to the Protesters:  challenges LA mayor Eric Garcetti to get rid of his own security detail if he w…\n",
      "\n",
      "16) : Just heard that Mayor Bowser is kicking the Utah National Guard out of all DC hotels tomorrow. More than 1200 troops from 1…\n",
      "\n",
      "17) : These brave men and women have risked their lives protecting DC for three days. Rioting, looting, arson, and vandalism have…\n",
      "\n",
      "18) : Would love for you to have a signed copy of my new book, Doesn't Hurt to Ask. Pre-order and get yours today and win your next…\n",
      "\n",
      "19) : Just left the White House meeting with President Trump. If you’re ready to join the fight you can sign up here 👇 \n",
      "\n",
      "20) : Mr. Rosenstein testified to Senate this week. He should also testify to a grand jury about the coup abuses of …\n",
      "\n",
      "21) : . completely exposes how Barack Obama and Joe Biden unleashed, weaponized, and politicized the DOJ, FBI, and t…\n",
      "\n",
      "22) Biden wants to Defund the Police! \n",
      "\n",
      "23) : Sen. Ted Cruz: \"Pause for a second and imagine how you would feel if Donald J. Trump was doing exactly what Barack Obama and J…\n",
      "\n",
      "24) We will always defend. Great job Jay! \n",
      "\n",
      "25) : Martha McSally’s new book, Dare to Fly: Simple Lessons in Never Giving Up, is out now!\n",
      "\n",
      "\n",
      "26) : FILE THIS UNDER SH!T you can’t make up YET ITS NOT FAKE NEWS!!!!!!\n",
      "\n",
      "27) : It's time to Make America Normal Again, and this is the best KICK OFF ever!!! \n",
      "\n",
      "This will make your day, folks! Happy…\n",
      "\n",
      "28) : Tonight's special with CANDACE OWENS starts at 9:30pm ET, FREE on BlazeTV's YouTube channel: \n",
      "\n",
      "29) Democrat John Hickenlooper Held in Contempt After Failing to Comply with Subpoena over Ethics Complaint  Got caught big time with his hand in the cookie jar. Should be the end of his Colorado Senate bid. Makes no difference, we already have a GREAT Senator!\n",
      "\n",
      "30) What a fantastic group! \n",
      "\n",
      "31) Great! \n",
      "\n",
      "32) . is grossly incompetent, and in no way qualified to be running an important city like Washington, D.C. If the great men and women of the National Guard didn’t step forward, she would have looked no better than her counterpart Mayor in Minneapolis!\n",
      "\n",
      "33) : LIVE: POTUS delivers remarks at Puritan Medical Products \n",
      "\n",
      "34) ...We should be standing up straight and tall, ideally with a salute, or a hand on heart. There are other things you can protest, but not our Great American Flag - NO KNEELING!\n",
      "\n",
      "35) I am a big fan of Drew Brees. I think he’s truly one of the greatest quarterbacks, but he should not have taken back his original stance on honoring our magnificent American Flag. OLD GLORY is to be revered, cherished, and flown high...\n",
      "\n",
      "36) : LIVE: POTUS participates in a roundtable \n",
      "\n",
      "37) The incompetent Mayor of Washington, D.C., , who’s budget is totally out of control and is constantly coming back to us for “handouts”, is now fighting with the National Guard, who saved her from great embarrassment...\n",
      "\n",
      "38) I just signed the Paycheck Protection Program Flexibility Act to further improve our VERY POPULAR AND SUCCESSFUL program to help small businesses. THANK YOU to our GREAT REPUBLICAN SENATORS!       \n",
      "\n",
      "39) Greatest Top Five Monthly Jobs Gains in HISTORY. We are 1! \n",
      "\n",
      "40) “Really great numbers by any standard - UNBELIEVABLE!”  Joe go it right also!\n",
      "\n",
      "41) : With 2.5 MILLION jobs added in May, we're on the way to an incredible period of growth! 🔥 \n",
      "\n",
      "42) It’s a stupendous number. It’s joyous, let’s call it like it is. The Market was right. It’s stunning!   \n",
      "\n",
      "43) Congratulations to wonderful Charles Payne on having been so optimistic, and therefore correct. Market up BIG!!!\n",
      "\n",
      "44) This is an AMAZING JOBS REPORT! Edward Lawrence \n",
      "\n",
      "45) THESE NUMBERS ARE INCREDIBLE! \n",
      "\n",
      "46) Really Big Jobs Report. Great going President Trump (kidding but true)!\n",
      "\n",
      "47) : The unprecedented COVID-19 pandemic has highlighted the need for better federal budgeting. We had the financial tools to a…\n",
      "\n",
      "48) : Yesterday, the Senate passed legislation to improve the Paycheck Protection Program and grant greater flexibility to our…\n",
      "\n",
      "49) : Great to hear that Navy veteran Michael White is on his way home to America!\n",
      "\n",
      "\n",
      "50) : I spoke to Arizonans during a telephone town hall earlier this week about what’s happening in our country right now. (1/4…\n",
      "\n",
      "51) : In particular, I’m pleased the administration will be adopting policies similar to my PLA Visa Security Act. America’s so…\n",
      "\n",
      "52) : Judge Sullivan is abusing his judicial power for political purposes. It’s time for General Flynn’s nightmare to end. I’m…\n",
      "\n"
     ]
    }
   ],
   "source": [
    "# Printing positive tweets \n",
    "print('Printing positive tweets:\\n')\n",
    "j=1\n",
    "sortedDF = df.sort_values(by=['Polarity']) #Sort the tweets\n",
    "for i in range(0, sortedDF.shape[0] ):\n",
    "  if( sortedDF['Analysis'][i] == 'Not-Toxic'):\n",
    "    print(str(j) + ') '+ sortedDF['Tweets'][i])\n",
    "    print()\n",
    "    j= j+1\n"
   ]
  },
  {
   "cell_type": "code",
   "execution_count": 28,
   "metadata": {},
   "outputs": [
    {
     "name": "stdout",
     "output_type": "stream",
     "text": [
      "Printing negative tweets:\n",
      "\n"
     ]
    }
   ],
   "source": [
    "# Printing negative tweets  \n",
    "print('Printing negative tweets:\\n')\n",
    "j=1\n",
    "sortedDF = df.sort_values(by=['Polarity'],ascending=False) #Sort the tweets\n",
    "for i in range(0, sortedDF.shape[0] ):\n",
    "  if( sortedDF['Analysis'][i] == ''):\n",
    "    print(str(j) + ') '+sortedDF['Tweets'][i])\n",
    "    print()\n",
    "    j=j+1"
   ]
  },
  {
   "cell_type": "code",
   "execution_count": 29,
   "metadata": {},
   "outputs": [
    {
     "data": {
      "text/plain": [
       "52.0"
      ]
     },
     "execution_count": 29,
     "metadata": {},
     "output_type": "execute_result"
    }
   ],
   "source": [
    "# Print the percentage of positive tweets\n",
    "ptweets = df[df.Analysis == 'Not-Toxic']\n",
    "ptweets = ptweets['Tweets']\n",
    "ptweets\n",
    "\n",
    "round( (ptweets.shape[0] / df.shape[0]) * 100 , 1)"
   ]
  },
  {
   "cell_type": "code",
   "execution_count": 30,
   "metadata": {},
   "outputs": [
    {
     "data": {
      "text/plain": [
       "48.0"
      ]
     },
     "execution_count": 30,
     "metadata": {},
     "output_type": "execute_result"
    }
   ],
   "source": [
    "# Print the percentage of negative tweets\n",
    "ntweets = df[df.Analysis == 'Toxic']\n",
    "ntweets = ntweets['Tweets']\n",
    "ntweets\n",
    "\n",
    "round( (ntweets.shape[0] / df.shape[0]) * 100, 1)"
   ]
  },
  {
   "cell_type": "code",
   "execution_count": 31,
   "metadata": {},
   "outputs": [
    {
     "data": {
      "text/plain": [
       "Not-Toxic    52\n",
       "Toxic        48\n",
       "Name: Analysis, dtype: int64"
      ]
     },
     "execution_count": 31,
     "metadata": {},
     "output_type": "execute_result"
    }
   ],
   "source": [
    "# Show the value counts\n",
    "df['Analysis'].value_counts()"
   ]
  },
  {
   "cell_type": "code",
   "execution_count": 33,
   "metadata": {},
   "outputs": [
    {
     "data": {
      "image/png": "[encoded data removed]",
      "text/plain": [
       "<Figure size 432x288 with 1 Axes>"
      ]
     },
     "metadata": {
      "needs_background": "light"
     },
     "output_type": "display_data"
    }
   ],
   "source": [
    "# Plotting and visualizing the counts\n",
    "plt.title('Tweets')\n",
    "plt.xlabel('Sentiment')\n",
    "plt.ylabel('Counts')\n",
    "df['Analysis'].value_counts().plot(kind = 'bar')\n",
    "plt.show()"
   ]
  },
  {
   "cell_type": "code",
   "execution_count": null,
   "metadata": {},
   "outputs": [],
   "source": []
  }
 ],
 "metadata": {
  "kernelspec": {
   "display_name": "Python 3",
   "language": "python",
   "name": "python3"
  },
  "language_info": {
   "codemirror_mode": {
    "name": "ipython",
    "version": 3
   },
   "file_extension": ".py",
   "mimetype": "text/x-python",
   "name": "python",
   "nbconvert_exporter": "python",
   "pygments_lexer": "ipython3",
   "version": "3.7.4"
  }
 },
 "nbformat": 4,
 "nbformat_minor": 2
}
